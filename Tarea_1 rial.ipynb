{
  "nbformat": 4,
  "nbformat_minor": 0,
  "metadata": {
    "kernelspec": {
      "display_name": "Python 3",
      "language": "python",
      "name": "python3"
    },
    "language_info": {
      "codemirror_mode": {
        "name": "ipython",
        "version": 3
      },
      "file_extension": ".py",
      "mimetype": "text/x-python",
      "name": "python",
      "nbconvert_exporter": "python",
      "pygments_lexer": "ipython3",
      "version": "3.7.1"
    },
    "colab": {
      "name": "Copia de CC3001 Tarea 1",
      "provenance": [],
      "collapsed_sections": [],
      "include_colab_link": true
    }
  },
  "cells": [
    {
      "cell_type": "markdown",
      "metadata": {
        "id": "view-in-github",
        "colab_type": "text"
      },
      "source": [
        "<a href=\"https://colab.research.google.com/github/PaulaBDS/AED-Tareas/blob/main/Tarea_1%20rial.ipynb\" target=\"_parent\"><img src=\"https://colab.research.google.com/assets/colab-badge.svg\" alt=\"Open In Colab\"/></a>"
      ]
    },
    {
      "cell_type": "markdown",
      "metadata": {
        "id": "_Q2SFIAPOylT"
      },
      "source": [
        "# CC3001 Otoño 2021 Tarea 1\n",
        "\n",
        "## Escribir números en palabras\n",
        "\n",
        "### Profesores\n",
        "Sección 1 Iván Sipirán •\n",
        "Sección 2 Patricio Poblete •\n",
        "Sección 3 Nelson Baloian\n"
      ]
    },
    {
      "cell_type": "markdown",
      "metadata": {
        "id": "IAaBIWKlOylU"
      },
      "source": [
        "El objetivo de esta tarea es que usted implemente una función ``palabras(n)`` que al ser llamada entregue un string que contenga el número ``n`` expresado en palabras, donde ``n`` es un número entero nonegativo menor que mil millones.\n",
        "\n",
        "Por ejemplo,\n",
        "\n",
        "```\n",
        "palabras(12) = \"doce\"\n",
        "palabras(41025) = \"cuarenta y un mil veinticinco\"\n",
        "```\n",
        "\n",
        "A modo de inspiración, a continuación hay una versión rudimentaria de esta función, en que todos los casos se manejan de la manera más simple posible. Como usted verá, si la prueba con diferentes valores de ``n``, esta versión de la función le acierta a muchos casos, pero también se equivoca en muchos otros. La versión que usted entregue debería manejar bien todos los casos."
      ]
    },
    {
      "cell_type": "markdown",
      "metadata": {
        "id": "M92GDEW1jjzN"
      },
      "source": [
        "Como primer paso, comenzaremos escribiendo una función restringida a números menores que mil:"
      ]
    },
    {
      "cell_type": "code",
      "metadata": {
        "id": "OEygUEyJjs6D"
      },
      "source": [
        "def palabras1000(n):\n",
        "  unidades = [\"cero\",\"un\",\"dos\",\"tres\",\"cuatro\",\"cinco\",\"seis\",\"siete\",\"ocho\",\n",
        "              \"nueve\"]\n",
        "  decenas = [\"\",\"diez\",\"veinte\",\"treinta\",\"cuarenta\",\"cincuenta\",\"sesenta\",\n",
        "             \"setenta\",\"ochenta\",\"noventa\"]\n",
        "  centenas = [\"\",\"ciento\",\"doscientos\",\"trescientos\",\"cuatrocientos\",\"quinientos\",\n",
        "              \"seiscientos\",\"setecientos\",\"ochocientos\",\"novecientos\"]\n",
        "  (c,d,u)=(n//100,(n%100//10),n%10)\n",
        "  return centenas[c]+\" \"+decenas[d]+\" y \"+unidades[u]"
      ],
      "execution_count": 92,
      "outputs": []
    },
    {
      "cell_type": "markdown",
      "metadata": {
        "id": "iGOA9770krAA"
      },
      "source": [
        "Como se puede ver en las siguientes pruebas, esto funciona buen en algunos casos, pero se equivoca en muchos otros:"
      ]
    },
    {
      "cell_type": "code",
      "metadata": {
        "colab": {
          "base_uri": "https://localhost:8080/",
          "height": 35
        },
        "id": "afXOb969k9TQ",
        "outputId": "6f4860a0-7d22-410b-d9a9-ba13ed149d0c"
      },
      "source": [
        "palabras1000(785)"
      ],
      "execution_count": null,
      "outputs": [
        {
          "output_type": "execute_result",
          "data": {
            "application/vnd.google.colaboratory.intrinsic+json": {
              "type": "string"
            },
            "text/plain": [
              "'setecientos ochenta y cinco'"
            ]
          },
          "metadata": {
            "tags": []
          },
          "execution_count": 32
        }
      ]
    },
    {
      "cell_type": "code",
      "metadata": {
        "colab": {
          "base_uri": "https://localhost:8080/",
          "height": 35
        },
        "id": "BDUzS67QoJqa",
        "outputId": "e3a30ef2-3bf6-4dc5-9a85-160f7b1ff0b9"
      },
      "source": [
        "palabras1000(47)"
      ],
      "execution_count": null,
      "outputs": [
        {
          "output_type": "execute_result",
          "data": {
            "application/vnd.google.colaboratory.intrinsic+json": {
              "type": "string"
            },
            "text/plain": [
              "' cuarenta y siete'"
            ]
          },
          "metadata": {
            "tags": []
          },
          "execution_count": 33
        }
      ]
    },
    {
      "cell_type": "code",
      "metadata": {
        "colab": {
          "base_uri": "https://localhost:8080/",
          "height": 35
        },
        "id": "nDbvGmHUoNF-",
        "outputId": "d6b78c59-9cde-4b61-90dc-a771395324b5"
      },
      "source": [
        "palabras1000(30)"
      ],
      "execution_count": null,
      "outputs": [
        {
          "output_type": "execute_result",
          "data": {
            "application/vnd.google.colaboratory.intrinsic+json": {
              "type": "string"
            },
            "text/plain": [
              "' treinta y cero'"
            ]
          },
          "metadata": {
            "tags": []
          },
          "execution_count": 34
        }
      ]
    },
    {
      "cell_type": "code",
      "metadata": {
        "colab": {
          "base_uri": "https://localhost:8080/",
          "height": 35
        },
        "id": "gb0JbP1doQ-I",
        "outputId": "e98d77a2-1017-4b9c-b8a3-c64a3841cf2d"
      },
      "source": [
        "palabras1000(140)"
      ],
      "execution_count": null,
      "outputs": [
        {
          "output_type": "execute_result",
          "data": {
            "application/vnd.google.colaboratory.intrinsic+json": {
              "type": "string"
            },
            "text/plain": [
              "'ciento cuarenta y cero'"
            ]
          },
          "metadata": {
            "tags": []
          },
          "execution_count": 35
        }
      ]
    },
    {
      "cell_type": "markdown",
      "metadata": {
        "id": "vl4zVxQnk115"
      },
      "source": [
        "A continuación vemos el caso general:"
      ]
    },
    {
      "cell_type": "code",
      "metadata": {
        "id": "qkl1Tc3YOylV"
      },
      "source": [
        "def palabras(n):\n",
        "  assert 0<=n<1000000000\n",
        "\n",
        "  if n==0:\n",
        "    return \"cero\"\n",
        "\n",
        "  (a,b,c)=(n//1000000,(n%1000000)//1000,n%1000)\n",
        "  # n es de la forma \"a millones b mil c\"\n",
        "  return palabras1000(a)+\" millones \"+palabras1000(b)+\" mil \"+palabras1000(c)"
      ],
      "execution_count": null,
      "outputs": []
    },
    {
      "cell_type": "markdown",
      "metadata": {
        "id": "ZjXGuYGXnGb-"
      },
      "source": [
        "Nuevamente, vemos que esto podría mejorarse bastante:"
      ]
    },
    {
      "cell_type": "code",
      "metadata": {
        "id": "-ehVwCp4OylY",
        "colab": {
          "base_uri": "https://localhost:8080/",
          "height": 52
        },
        "outputId": "4d46c1bb-fa73-4dde-b8ab-d48acb126ccc"
      },
      "source": [
        "palabras(543786237)"
      ],
      "execution_count": null,
      "outputs": [
        {
          "output_type": "execute_result",
          "data": {
            "application/vnd.google.colaboratory.intrinsic+json": {
              "type": "string"
            },
            "text/plain": [
              "'quinientos cuarenta y tres millones setecientos ochenta y seis mil doscientos treinta y siete'"
            ]
          },
          "metadata": {
            "tags": []
          },
          "execution_count": 37
        }
      ]
    },
    {
      "cell_type": "code",
      "metadata": {
        "colab": {
          "base_uri": "https://localhost:8080/",
          "height": 35
        },
        "id": "OTErb0eAnl57",
        "outputId": "9633533b-9db5-4fd3-9a19-3ff54eb9b8ee"
      },
      "source": [
        "palabras(42515)"
      ],
      "execution_count": null,
      "outputs": [
        {
          "output_type": "execute_result",
          "data": {
            "application/vnd.google.colaboratory.intrinsic+json": {
              "type": "string"
            },
            "text/plain": [
              "'  y cero millones  cuarenta y dos mil quinientos diez y cinco'"
            ]
          },
          "metadata": {
            "tags": []
          },
          "execution_count": 38
        }
      ]
    },
    {
      "cell_type": "markdown",
      "metadata": {
        "id": "uUdBcdbGOylf"
      },
      "source": [
        "Tomando como base este código, escriba una solución que implemente lo pedido con el mínimo de equivocaciones posible, idealmente ninguna. Aparte de los casos de prueba descritos, agregue los que considere necesarios para demostrar el correcto funcionamiento de su programa.\n",
        "\n",
        "En caso de que a pesar de sus esfuerzos todavía queden algunos casos \"rebeldes\", se considerará positivamente que también los incluya, señalándolos como tales y explicando por qué no pudo corregirlos."
      ]
    },
    {
      "cell_type": "markdown",
      "metadata": {
        "id": "oNiJYTxzIl40"
      },
      "source": [
        "# Solución"
      ]
    },
    {
      "cell_type": "code",
      "metadata": {
        "id": "3kPGidb-emYF"
      },
      "source": [
        "# Hablé con Felipe Maldonado sobre esta tarea."
      ],
      "execution_count": 16,
      "outputs": []
    },
    {
      "cell_type": "code",
      "metadata": {
        "id": "P9nUs_C2fBjl"
      },
      "source": [
        "def palabras1000(n):\n",
        "  \"\"\"\n",
        "  Función que escribe en palabras el número n, donde 0 < n < 1000\n",
        "  \"\"\"\n",
        "  assert 0 <= n < 1_000\n",
        "\n",
        "  # Primero se listan a conveniencia las palabras que se utilizarán\n",
        "  n11al15 = [11, 12, 13, 14, 15]\n",
        "  unidades = ['', 'uno', 'dos', 'tres', 'cuatro', 'cinco', 'seis',\n",
        "              'siete', 'ocho', 'nueve']\n",
        "\n",
        "  decenas = ['', 'dieci', 'veinti', 'treinta', 'cuarenta', 'cincuenta',\n",
        "             'sesenta', 'setenta', 'ochenta', 'noventa']\n",
        "\n",
        "  especiales10o20 = ['', 'diez', 'veinte']\n",
        "\n",
        "  especiales1_ = ['', 'once', 'doce', 'trece', 'catorce', 'quince']\n",
        "\n",
        "  centenas = ['', 'ciento', 'docientos', 'trecientos',\n",
        "              'cuatrocientos', 'quinientos','seiscientos', 'setecientos',\n",
        "              'ochocientos', 'novecientos']\n",
        "  \n",
        "  # Luego la función determina el valor de la centena decena y unidad\n",
        "  (c,d,u)=(n//100,(n%100//10),n%10)\n",
        "\n",
        "  # Finalmente hay que separar los casos especiales mediante condiciones...\n",
        "  # Si es un número del 1 al 9 entonces:\n",
        "  if c==d==0: return unidades[u]\n",
        "\n",
        "  # Si la decena y unidad forman el 11 o 12 o 13 o 14 o 15 entonces:\n",
        "  if n%100 in n11al15:\n",
        "    if c!=0: return centenas[c] + ' ' + especiales1_[u]\n",
        "    return especiales1_[u]\n",
        "  \n",
        "  if d==0: \n",
        "    if u==0: return centenas[c]\n",
        "    return centenas[c] + ' ' + unidades[u]\n",
        "\n",
        "  if d!=0 and d in (1,2):\n",
        "    if u==0: return centenas[c] + ' ' + especiales10o20[d]\n",
        "    return centenas[c] + ' ' + decenas[d] + unidades[u]\n",
        "  \n",
        "  if d!=(1,2) and u==0: return centenas[c] + ' ' + decenas[d]\n",
        "\n",
        "  # En cualquier otro caso el número se escribe:\n",
        "  else: return centenas[c] + ' ' + decenas[d] + ' y ' + unidades[u]"
      ],
      "execution_count": 195,
      "outputs": []
    },
    {
      "cell_type": "code",
      "metadata": {
        "id": "aNyMGzp1mupp",
        "outputId": "6366710d-ae7c-4870-cf21-4d20af96cb27",
        "colab": {
          "base_uri": "https://localhost:8080/"
        }
      },
      "source": [
        "palabras1000(16), palabras1000(21), palabras1000(216), palabras1000(30), palabras1000(41)"
      ],
      "execution_count": 196,
      "outputs": [
        {
          "output_type": "execute_result",
          "data": {
            "text/plain": [
              "(' dieciseis',\n",
              " ' veintiuno',\n",
              " 'docientos dieciseis',\n",
              " ' treinta',\n",
              " ' cuarenta y uno')"
            ]
          },
          "metadata": {
            "tags": []
          },
          "execution_count": 196
        }
      ]
    },
    {
      "cell_type": "code",
      "metadata": {
        "id": "05Lr4eU5yA9M"
      },
      "source": [
        "def palabras(n):\n",
        "  \"\"\"\n",
        "  Función que escribe en palabras el número n, donde 0 <= n < 1000e6\n",
        "  \"\"\"\n",
        "  assert 0 <= n < 1_000_000_000\n",
        "  # La palabra \"cero\" o \"cien\" no aparecerá en ningún número n a menos que\n",
        "  # este sea 0 o 100, respectivamente. Es por esta razón que se separan estos \n",
        "  # casos de los demás\n",
        "  if n==0: return 'cero'\n",
        "  if n==100: return 'cien'\n",
        "\n",
        "  # n es de la forma \"a millones b mil c\n",
        "  (a,b,c)=(n//1000000,(n%1000000)//1000,n%1000)\n",
        "\n",
        "  # Se definen variables que, dependiendo del número n, se modificarán\n",
        "  millones =' millones '\n",
        "  mil = ' mil '\n",
        "  x = palabras1000(a)\n",
        "  y = palabras1000(b)\n",
        "  z = palabras1000(c)\n",
        "\n",
        "  # Se identifican los casos especiales y se modifican las variables definidas\n",
        "  # inmediatamente arriba según sea el caso\n",
        "  if a==0:\n",
        "    if b==1: y=''\n",
        "    millones=''\n",
        "\n",
        "  if b==1:\n",
        "    if a==1: \n",
        "      millones = ' millon'\n",
        "    y= ''\n",
        "  if b==0: mil = ''\n",
        "  if a%10==1 and a%100!=11: x = x[:len(x) - 1]\n",
        "  if b%10==1 and b%100!=11: y = y[:len(y) - 1]\n",
        "\n",
        "  \n",
        "  # Se entrega la palabra con o sin modificar las variables, dependiendo del caso\n",
        "  return x + millones + y + mil + z"
      ],
      "execution_count": 234,
      "outputs": []
    },
    {
      "cell_type": "code",
      "metadata": {
        "id": "dGH0zC3m9rsf",
        "outputId": "a75d4f9a-0307-4750-cadb-fd665a332840",
        "colab": {
          "base_uri": "https://localhost:8080/"
        }
      },
      "source": [
        "n=1_001_000\n",
        "(a,b,c)=(n//1000000,(n%1000000)//1000,n%1000)\n",
        "a, b, c"
      ],
      "execution_count": 246,
      "outputs": [
        {
          "output_type": "execute_result",
          "data": {
            "text/plain": [
              "(1, 1, 0)"
            ]
          },
          "metadata": {
            "tags": []
          },
          "execution_count": 246
        }
      ]
    },
    {
      "cell_type": "code",
      "metadata": {
        "id": "5OsCKNvgAcaB",
        "outputId": "7e761319-935b-4c62-fb31-f0d6c3ce4268",
        "colab": {
          "base_uri": "https://localhost:8080/",
          "height": 330
        }
      },
      "source": [
        "# Testeando la función palabras(n)\n",
        "print('n = 121.121 se escribe: ' + palabras(121_121), '\\n')\n",
        "print('n = 101.101.112 se escribe: ' + palabras(101_111_112), '\\n')\n",
        "print('n = 101.101.101 se escribe: ' + palabras(101_101_101), '\\n')\n",
        "print('n = 42.515 se escribe: ' + palabras(42_530), '\\n')\n",
        "print('n = 543.786.237 se escribe: ' + palabras(543_786_237), '\\n')\n",
        "print('n = 35 se escribe: ' + palabras(35), '\\n')\n",
        "print('n = 1.254 se escribe: ' + palabras(1_254), '\\n')\n",
        "print('n = 101.001.000 se escribe: ' + palabras(101_001_000), '\\n')\n",
        "print('n = 1.001.562 se escribe: ' + palabras(1_001_562))\n",
        "palabras(1_120_001)\n",
        "\n"
      ],
      "execution_count": 244,
      "outputs": [
        {
          "output_type": "stream",
          "text": [
            "n = 121.121 se escribe: ciento veintiun mil ciento veintiuno \n",
            "\n",
            "n = 101.101.112 se escribe: ciento un millones ciento once mil ciento doce \n",
            "\n",
            "n = 101.101.101 se escribe: ciento un millones ciento un mil ciento uno \n",
            "\n",
            "n = 42.515 se escribe:  cuarenta y dos mil quinientos treinta \n",
            "\n",
            "n = 543.786.237 se escribe: quinientos cuarenta y tres millones setecientos ochenta y seis mil docientos treinta y siete \n",
            "\n",
            "n = 35 se escribe:  treinta y cinco \n",
            "\n",
            "n = 1.254 se escribe:  mil docientos cincuenta y cuatro \n",
            "\n",
            "n = 101.001.000 se escribe: ciento un millones  mil  \n",
            "\n",
            "n = 1.001.562 se escribe: un millon mil quinientos sesenta y dos\n"
          ],
          "name": "stdout"
        },
        {
          "output_type": "execute_result",
          "data": {
            "application/vnd.google.colaboratory.intrinsic+json": {
              "type": "string"
            },
            "text/plain": [
              "'un millones ciento veinte mil uno'"
            ]
          },
          "metadata": {
            "tags": []
          },
          "execution_count": 244
        }
      ]
    }
  ]
}